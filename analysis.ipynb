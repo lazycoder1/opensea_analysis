{
 "cells": [
  {
   "cell_type": "code",
   "execution_count": 117,
   "id": "d5ba5198-a836-43e6-8c31-0f71c316b733",
   "metadata": {},
   "outputs": [],
   "source": [
    "import requests\n",
    "import json \n",
    "import time\n",
    "import csv\n",
    "\n",
    "opensea_address = \"0x7Be8076f4EA4A4AD08075C2508e481d6C946D12b\"\n",
    "blocks_per_day = 6000\n",
    "url = \"https://api.etherscan.io/api?module=account&\"\\\n",
    "    \"action=txlist&\"\\\n",
    "    \"address=ADDRESS&\"\\\n",
    "    \"startblock=START_BLOCK&\"\\\n",
    "    \"endblock=END_BLOCK&\"\\\n",
    "    \"page=PAGENO&\"\\\n",
    "    \"offset=10&\"\\\n",
    "    \"sort=asc&\"\\\n",
    "    \"apikey=RY1QF8U67EGBIFGPJDKDIMQZ3ZJDJHGYSB\""
   ]
  },
  {
   "cell_type": "code",
   "execution_count": 137,
   "id": "3234a8dd-01c1-43b4-a8cc-71067f9111de",
   "metadata": {},
   "outputs": [],
   "source": [
    "scan_days = 3\n",
    "def make_req(block_number, from_addr):\n",
    "    url = get_req_url(from_addr, block_number-(scan_days*blocks_per_day), block_number, 1)\n",
    "    \n",
    "    # print(url)\n",
    "    resp = json.loads(requests.get(url).text)\n",
    "    # print(resp)\n",
    "    return resp\n",
    "\n",
    "def get_req_url(address, start_block, end_block, page, offset=10, sort='asc', api_key='RY1QF8U67EGBIFGPJDKDIMQZ3ZJDJHGYSB'):\n",
    "    endpoint = f'https://api.etherscan.io/api?module=account&action=txlist&address={address}&startblock={start_block}&endblock={end_block}&page={page}&offset={offset}&sort={sort}&apikey={api_key}\"'\n",
    "    return endpoint\n",
    "    \n",
    "# make_req(13333161, opensea_address)"
   ]
  },
  {
   "cell_type": "code",
   "execution_count": 138,
   "id": "0d0475c5-a636-417d-97c4-c330d3741273",
   "metadata": {},
   "outputs": [
    {
     "data": {
      "text/plain": [
       "['blockNumber',\n",
       " 'timeStamp',\n",
       " 'hash',\n",
       " 'nonce',\n",
       " 'blockHash',\n",
       " 'transactionIndex',\n",
       " 'from',\n",
       " 'to',\n",
       " 'value',\n",
       " 'gas',\n",
       " 'gasPrice',\n",
       " 'isError',\n",
       " 'txreceipt_status',\n",
       " 'contractAddress',\n",
       " 'cumulativeGasUsed',\n",
       " 'gasUsed',\n",
       " 'confirmations']"
      ]
     },
     "execution_count": 138,
     "metadata": {},
     "output_type": "execute_result"
    }
   ],
   "source": [
    "import pandas as pd \n",
    "\n",
    "opensea_transaction_df = pd.read_csv(\"./data/transaction_list_opensea.csv\")\n",
    "\n",
    "list(opensea_transaction_df.columns)"
   ]
  },
  {
   "cell_type": "code",
   "execution_count": 66,
   "id": "4f087781-d5f1-4443-943f-cfade3918b1a",
   "metadata": {},
   "outputs": [
    {
     "data": {
      "text/plain": [
       "['blockNumber',\n",
       " 'timeStamp',\n",
       " 'from',\n",
       " 'to',\n",
       " 'value',\n",
       " 'gas',\n",
       " 'gasPrice',\n",
       " 'isError']"
      ]
     },
     "execution_count": 66,
     "metadata": {},
     "output_type": "execute_result"
    }
   ],
   "source": [
    "# Deleting unnecessary data points\n",
    "opensea_transaction_df = opensea_transaction_df.drop(columns='blockHash')\n",
    "opensea_transaction_df = opensea_transaction_df.drop(columns='transactionIndex')\n",
    "opensea_transaction_df = opensea_transaction_df.drop(columns='txreceipt_status')\n",
    "opensea_transaction_df = opensea_transaction_df.drop(columns='cumulativeGasUsed')\n",
    "opensea_transaction_df = opensea_transaction_df.drop(columns='confirmations')\n",
    "opensea_transaction_df = opensea_transaction_df.drop(columns='hash')\n",
    "opensea_transaction_df = opensea_transaction_df.drop(columns='gasUsed')\n",
    "opensea_transaction_df = opensea_transaction_df.drop(columns='nonce')\n",
    "opensea_transaction_df = opensea_transaction_df.drop(columns='contractAddress')\n",
    "\n",
    "list(opensea_transaction_df.columns)"
   ]
  },
  {
   "cell_type": "code",
   "execution_count": 81,
   "id": "8e183b12-f365-4843-a7f2-db983b844701",
   "metadata": {},
   "outputs": [
    {
     "data": {
      "text/plain": [
       "'13333161,1633087817,0x54332083579c9e940dd861dc8c0c4324c96612781c24019fa09c954b92c0e55f,1027,0x038a784a751c6ec27bd7cc1cba5ca9ec821788ce86638833526595e58c927a10,138,0x9de3d7a01112e9b64d544b450041a81ea63cec76,0x7be8076f4ea4a4ad08075c2508e481d6c946d12b,170000000000000000,236914,62210226104,0,1,,9618830,172500,101328'"
      ]
     },
     "execution_count": 81,
     "metadata": {},
     "output_type": "execute_result"
    }
   ],
   "source": [
    "data"
   ]
  },
  {
   "cell_type": "code",
   "execution_count": 115,
   "id": "94d4511b-24bb-44aa-887c-59ae3a9f4d53",
   "metadata": {},
   "outputs": [
    {
     "data": {
      "text/plain": [
       "0x433c8a73bec1273561e4e2201649de12f20b7d58    5247\n",
       "0xec143ca01e3d305bdb20d49907aecd9f1ded1863    4059\n",
       "0x208b82b04449cd51803fae4b1561450ba13d9510    3762\n",
       "0x8c0d2b62f133db265ec8554282ee60eca0fd5a9e    2376\n",
       "0x9e4a9b4334f3167bc7dd35f48f2238c73f532baf    2277\n",
       "                                              ... \n",
       "0x96723b45aba4b0f25eaabc3c027d8c4571afec33      99\n",
       "0xbf322a9804e2911137883d7f2580f6a3e0429bbe      99\n",
       "0x547e239e6efce67e2d767f814a66fca3229d948b      99\n",
       "0x4f49e3edc4cb6148fc7ed38aaeec4894345ef79d      99\n",
       "0x073587790ae03769e38f221ce27475d213cc1cb6      99\n",
       "Name: from, Length: 5566, dtype: int64"
      ]
     },
     "execution_count": 115,
     "metadata": {},
     "output_type": "execute_result"
    }
   ],
   "source": [
    "opensea_transaction_df['from'].value_counts()"
   ]
  },
  {
   "cell_type": "code",
   "execution_count": 167,
   "id": "8563cfa9-6978-48e0-a980-3e081ae849a5",
   "metadata": {},
   "outputs": [
    {
     "data": {
      "text/plain": [
       "7623"
      ]
     },
     "execution_count": 167,
     "metadata": {},
     "output_type": "execute_result"
    }
   ],
   "source": [
    "opensea_transaction_df['value_int'] = opensea_transaction_df['value'].astype(float)/1_000_000_000_000_000_000\n",
    "len(opensea_transaction_df[opensea_transaction_df['value_int']>5]['from'])"
   ]
  },
  {
   "cell_type": "code",
   "execution_count": 154,
   "id": "19193557-72cf-47fa-a6d0-e72de0c000ed",
   "metadata": {},
   "outputs": [],
   "source": [
    "def trim_result(record):\n",
    "    del record['input']\n",
    "    return record"
   ]
  },
  {
   "cell_type": "code",
   "execution_count": 179,
   "id": "a7dcb988-d758-4d87-a9a9-45513ef71f35",
   "metadata": {},
   "outputs": [
    {
     "name": "stdout",
     "output_type": "stream",
     "text": [
      "7623\r"
     ]
    }
   ],
   "source": [
    "# 5760 blocks are mined in a day/two\n",
    "transactions = {}\n",
    "count = 0 \n",
    "\n",
    "for row in opensea_transaction_df[opensea_transaction_df['value_int']>5][['from','value_int', 'blockNumber']].iterrows():\n",
    "    count += 1\n",
    "    print(count, end='\\r')\n",
    "    if count < 7592:\n",
    "        continue\n",
    "    from_addr = row[1]['from']\n",
    "    block_number = int(row[1]['blockNumber'])\n",
    "    # time.sleep(0.1)\n",
    "    results = make_req(block_number, from_addr)['result']\n",
    "    txns = [trim_result(txn) for txn in results]\n",
    "    temp_dict = dict()\n",
    "    temp_dict['from'] = from_addr\n",
    "    temp_dict['txns'] = txns\n",
    "    with open('./data/user_acc_txns.json', 'a') as f:\n",
    "        f.write(json.dumps(temp_dict))\n",
    "        f.write('\\n')"
   ]
  },
  {
   "cell_type": "code",
   "execution_count": 172,
   "id": "e521fe76-8cdb-4db0-ba55-f871c79ce8da",
   "metadata": {},
   "outputs": [
    {
     "data": {
      "text/plain": [
       "0"
      ]
     },
     "execution_count": 172,
     "metadata": {},
     "output_type": "execute_result"
    }
   ],
   "source": [
    "len(transactions)"
   ]
  },
  {
   "cell_type": "code",
   "execution_count": 63,
   "id": "e9adb48e-fede-4267-bac4-717a22793396",
   "metadata": {},
   "outputs": [],
   "source": [
    "with open('./data/transaction_list_opensea.csv') as inFile:\n",
    "        data = inFile.read()"
   ]
  },
  {
   "cell_type": "code",
   "execution_count": 80,
   "id": "e2fc3665-85be-4919-8bf5-c160da01e9ca",
   "metadata": {},
   "outputs": [],
   "source": [
    "def create_record(row):\n",
    "    fields = row.split(',')\n",
    "    record = {\n",
    "        ''\n",
    "    }\n",
    "    \n",
    "    return record"
   ]
  },
  {
   "cell_type": "code",
   "execution_count": null,
   "id": "aba80255-e342-4697-9912-a35fac56635a",
   "metadata": {},
   "outputs": [],
   "source": [
    "records = data.split('\\n')[1:]"
   ]
  },
  {
   "cell_type": "code",
   "execution_count": 79,
   "id": "e3067b3a-a33c-4404-8c27-0add474a13df",
   "metadata": {},
   "outputs": [
    {
     "data": {
      "text/plain": [
       "['13333161,1633087817,0x54332083579c9e940dd861dc8c0c4324c96612781c24019fa09c954b92c0e55f,1027,0x038a784a751c6ec27bd7cc1cba5ca9ec821788ce86638833526595e58c927a10,138,0x9de3d7a01112e9b64d544b450041a81ea63cec76,0x7be8076f4ea4a4ad08075c2508e481d6c946d12b,170000000000000000,236914,62210226104,0,1,,9618830,172500,101328',\n",
       " '13333161,1633087817,0xd650bdc2ebc6b319782fa028426e410f849c86931533aa6475f3159801d2a132,63,0x038a784a751c6ec27bd7cc1cba5ca9ec821788ce86638833526595e58c927a10,149,0x9c2b62d894820bc65fee7ed395bc5cccc2af1035,0x7be8076f4ea4a4ad08075c2508e481d6c946d12b,408000000000000000,253344,61710226104,0,1,,10978424,189939,101328',\n",
       " '13333161,1633087817,0x041165edcfaa97c05788daa56cb4c40ab9a55f795c39fb8aa907cee695f23af9,22,0x038a784a751c6ec27bd7cc1cba5ca9ec821788ce86638833526595e58c927a10,159,0x852c03de41993cf180bb8bba83e232a99e2fe635,0x7be8076f4ea4a4ad08075c2508e481d6c946d12b,100000000000000000,271914,61710226104,0,1,,11542562,201423,101328',\n",
       " '13333161,1633087817,0xaa2bca489da4f1ac79f17e9841317a4a153f531dbf41a786579694ea627ffb6f,1,0x038a784a751c6ec27bd7cc1cba5ca9ec821788ce86638833526595e58c927a10,163,0x7cb50de96485569e0b5715bb61dfe5cb9b09e2eb,0x7be8076f4ea4a4ad08075c2508e481d6c946d12b,55000000000000000,298033,61710226104,0,1,,12438491,214715,101328',\n",
       " '13333161,1633087817,0x0967d6a71b6b27323b9d5aeeecb53a793c2e0872a2e39ef036f47239fb118c95,68,0x038a784a751c6ec27bd7cc1cba5ca9ec821788ce86638833526595e58c927a10,179,0x5a9e9bb26f6cb9ca377255f7350988568bed9c70,0x7be8076f4ea4a4ad08075c2508e481d6c946d12b,178000000000000000,258143,61710226104,0,1,,13913411,188830,101328']"
      ]
     },
     "execution_count": 79,
     "metadata": {},
     "output_type": "execute_result"
    }
   ],
   "source": []
  },
  {
   "cell_type": "code",
   "execution_count": null,
   "id": "7165e4d3-d138-48c2-b70d-90b63b876ebb",
   "metadata": {},
   "outputs": [],
   "source": []
  }
 ],
 "metadata": {
  "kernelspec": {
   "display_name": "Python 3 (ipykernel)",
   "language": "python",
   "name": "python3"
  },
  "language_info": {
   "codemirror_mode": {
    "name": "ipython",
    "version": 3
   },
   "file_extension": ".py",
   "mimetype": "text/x-python",
   "name": "python",
   "nbconvert_exporter": "python",
   "pygments_lexer": "ipython3",
   "version": "3.8.2"
  }
 },
 "nbformat": 4,
 "nbformat_minor": 5
}
